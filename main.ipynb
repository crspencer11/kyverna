{
 "cells": [
  {
   "cell_type": "code",
   "execution_count": 5,
   "id": "ba2ccab4-c172-4012-8eba-6809f4914a77",
   "metadata": {},
   "outputs": [],
   "source": [
    "import pandas as pd"
   ]
  },
  {
   "cell_type": "code",
   "execution_count": 6,
   "id": "338685c5-9046-4e97-8d52-64dd0d587c93",
   "metadata": {},
   "outputs": [],
   "source": [
    "def load_data(file_path: str) -> pd.DataFrame:\n",
    "    try:\n",
    "        df = pd.read_excel(file_path)\n",
    "        print(\"DataFrame successfully created:\")\n",
    "        return df\n",
    "    except FileNotFoundError:\n",
    "        print(f\"Error: The file '{file_path}' was not found. Perhaps the wrong filepath?\")\n",
    "    except Exception as e:\n",
    "        print(f\"An error occurred: {e}\")"
   ]
  },
  {
   "cell_type": "code",
   "execution_count": 14,
   "id": "d32379fb-a8db-4e08-a6c0-39ece40b1267",
   "metadata": {},
   "outputs": [
    {
     "name": "stdout",
     "output_type": "stream",
     "text": [
      "DataFrame successfully created:\n"
     ]
    },
    {
     "data": {
      "text/html": [
       "<div>\n",
       "<style scoped>\n",
       "    .dataframe tbody tr th:only-of-type {\n",
       "        vertical-align: middle;\n",
       "    }\n",
       "\n",
       "    .dataframe tbody tr th {\n",
       "        vertical-align: top;\n",
       "    }\n",
       "\n",
       "    .dataframe thead th {\n",
       "        text-align: right;\n",
       "    }\n",
       "</style>\n",
       "<table border=\"1\" class=\"dataframe\">\n",
       "  <thead>\n",
       "    <tr style=\"text-align: right;\">\n",
       "      <th></th>\n",
       "      <th>UniqueSubjectIdentifier</th>\n",
       "      <th>Site.ID</th>\n",
       "      <th>Cohort</th>\n",
       "      <th>Parameter</th>\n",
       "      <th>Analysis.Visit</th>\n",
       "      <th>Analysis.Value</th>\n",
       "      <th>Analysis.RelativeDay</th>\n",
       "      <th>Date</th>\n",
       "      <th>Dosing.Date</th>\n",
       "      <th>CTCAE.Grade</th>\n",
       "    </tr>\n",
       "  </thead>\n",
       "  <tbody>\n",
       "    <tr>\n",
       "      <th>0</th>\n",
       "      <td>840002-001</td>\n",
       "      <td>840002</td>\n",
       "      <td>ABC101-001</td>\n",
       "      <td>Abs. Lymphocytes (x10^9/L)</td>\n",
       "      <td>Screening</td>\n",
       "      <td>1.19</td>\n",
       "      <td>-50</td>\n",
       "      <td>2023-08-07</td>\n",
       "      <td>2023-09-26</td>\n",
       "      <td>Gr2 or lower or normal</td>\n",
       "    </tr>\n",
       "    <tr>\n",
       "      <th>1</th>\n",
       "      <td>840002-001</td>\n",
       "      <td>840002</td>\n",
       "      <td>ABC101-001</td>\n",
       "      <td>Abs. Neutrophils (x10^9/L)</td>\n",
       "      <td>Screening</td>\n",
       "      <td>5.62</td>\n",
       "      <td>-50</td>\n",
       "      <td>2023-08-07</td>\n",
       "      <td>2023-09-26</td>\n",
       "      <td>Gr2 or lower or normal</td>\n",
       "    </tr>\n",
       "    <tr>\n",
       "      <th>2</th>\n",
       "      <td>840002-001</td>\n",
       "      <td>840002</td>\n",
       "      <td>ABC101-001</td>\n",
       "      <td>WBC (x10^9/L)</td>\n",
       "      <td>Screening</td>\n",
       "      <td>7.21</td>\n",
       "      <td>-50</td>\n",
       "      <td>2023-08-07</td>\n",
       "      <td>2023-09-26</td>\n",
       "      <td>Gr2 or lower or normal</td>\n",
       "    </tr>\n",
       "    <tr>\n",
       "      <th>3</th>\n",
       "      <td>840002-001</td>\n",
       "      <td>840002</td>\n",
       "      <td>ABC101-001</td>\n",
       "      <td>Abs. Lymphocytes (x10^9/L)</td>\n",
       "      <td>Aph</td>\n",
       "      <td>0.67</td>\n",
       "      <td>-36</td>\n",
       "      <td>2023-08-21</td>\n",
       "      <td>2023-09-26</td>\n",
       "      <td>Gr2 or lower or normal</td>\n",
       "    </tr>\n",
       "    <tr>\n",
       "      <th>4</th>\n",
       "      <td>840002-001</td>\n",
       "      <td>840002</td>\n",
       "      <td>ABC101-001</td>\n",
       "      <td>Abs. Neutrophils (x10^9/L)</td>\n",
       "      <td>Aph</td>\n",
       "      <td>4.92</td>\n",
       "      <td>-36</td>\n",
       "      <td>2023-08-21</td>\n",
       "      <td>2023-09-26</td>\n",
       "      <td>Gr2 or lower or normal</td>\n",
       "    </tr>\n",
       "  </tbody>\n",
       "</table>\n",
       "</div>"
      ],
      "text/plain": [
       "  UniqueSubjectIdentifier  Site.ID      Cohort                   Parameter  \\\n",
       "0              840002-001   840002  ABC101-001  Abs. Lymphocytes (x10^9/L)   \n",
       "1              840002-001   840002  ABC101-001  Abs. Neutrophils (x10^9/L)   \n",
       "2              840002-001   840002  ABC101-001               WBC (x10^9/L)   \n",
       "3              840002-001   840002  ABC101-001  Abs. Lymphocytes (x10^9/L)   \n",
       "4              840002-001   840002  ABC101-001  Abs. Neutrophils (x10^9/L)   \n",
       "\n",
       "  Analysis.Visit  Analysis.Value  Analysis.RelativeDay       Date Dosing.Date  \\\n",
       "0      Screening            1.19                   -50 2023-08-07  2023-09-26   \n",
       "1      Screening            5.62                   -50 2023-08-07  2023-09-26   \n",
       "2      Screening            7.21                   -50 2023-08-07  2023-09-26   \n",
       "3            Aph            0.67                   -36 2023-08-21  2023-09-26   \n",
       "4            Aph            4.92                   -36 2023-08-21  2023-09-26   \n",
       "\n",
       "              CTCAE.Grade  \n",
       "0  Gr2 or lower or normal  \n",
       "1  Gr2 or lower or normal  \n",
       "2  Gr2 or lower or normal  \n",
       "3  Gr2 or lower or normal  \n",
       "4  Gr2 or lower or normal  "
      ]
     },
     "execution_count": 14,
     "metadata": {},
     "output_type": "execute_result"
    }
   ],
   "source": [
    "kyverna_df = load_data(\"/Users/lilblick/Downloads/kyverna_study_data.xlsx\")\n",
    "kyverna_df.head()"
   ]
  },
  {
   "cell_type": "code",
   "execution_count": 16,
   "id": "b174f33e-6ab3-4b72-a0a7-05b0722eb659",
   "metadata": {},
   "outputs": [
    {
     "data": {
      "text/plain": [
       "654"
      ]
     },
     "execution_count": 16,
     "metadata": {},
     "output_type": "execute_result"
    }
   ],
   "source": [
    "# creating this so we know how many colkumns in original to hedge against final result(verify if any were missing)\n",
    "original_len = len(kyverna_df)\n",
    "original_len"
   ]
  },
  {
   "cell_type": "code",
   "execution_count": 12,
   "id": "755dcbfd-5286-43d8-8d91-95d9e8a6ab2a",
   "metadata": {},
   "outputs": [
    {
     "data": {
      "text/plain": [
       "Index(['UniqueSubjectIdentifier', 'Site.ID', 'Cohort', 'Parameter',\n",
       "       'Analysis.Visit', 'Analysis.Value', 'Analysis.RelativeDay', 'Date',\n",
       "       'Dosing.Date', 'CTCAE.Grade'],\n",
       "      dtype='object')"
      ]
     },
     "execution_count": 12,
     "metadata": {},
     "output_type": "execute_result"
    }
   ],
   "source": [
    "kyverna_df.columns"
   ]
  },
  {
   "cell_type": "code",
   "execution_count": 8,
   "id": "189fb905-2d67-408c-950c-6243ad2122fc",
   "metadata": {},
   "outputs": [],
   "source": [
    "def clean_dataframe(\n",
    "    df: pd.DataFrame,\n",
    "    fill_missing: str = \"constant\",\n",
    "    constant_fill: str | int | float = \"unknown\",\n",
    "    fuzzy_clean: bool = False,\n",
    "    fuzzy_column: str | None = None,\n",
    "    valid_values: list[str] | None = None\n",
    ") -> pd.DataFrame:\n",
    "    \"\"\"\n",
    "    Cleans a DataFrame for analysis:\n",
    "    - Strips whitespace and normalizes casing\n",
    "    - Handles nulls with configurable strategy\n",
    "    - Fixes spacing and unwanted characters\n",
    "    - Standardizes numeric/date types\n",
    "    - Drops duplicates\n",
    "    - (Optional) Fuzzy matches values in a specific column\n",
    "\n",
    "    Parameters\n",
    "    ----------\n",
    "    df : pd.DataFrame\n",
    "        Input dataframe\n",
    "    fill_missing : str\n",
    "        Strategy for filling missing values\n",
    "    constant_fill : str/int/float\n",
    "        Value used if fill_missing=\"constant\"\n",
    "    fuzzy_clean : bool\n",
    "        Whether to apply fuzzy string matching cleanup\n",
    "    fuzzy_column : str\n",
    "        Column to apply fuzzy matching on (required if fuzzy_clean=True)\n",
    "    valid_values : list[str]\n",
    "        Allowed values for fuzzy cleaning\n",
    "\n",
    "    Returns\n",
    "    -------\n",
    "    pd.DataFrame\n",
    "    \"\"\"\n",
    "\n",
    "    df = df.copy()\n",
    "    df = df.applymap(lambda x: x.strip() if isinstance(x, str) else x)\n",
    "\n",
    "    for col in df.select_dtypes(include=\"object\").columns:\n",
    "        df[col] = df[col].str.lower()\n",
    "        df[col] = df[col].str.replace(r\"\\s+\", \" \", regex=True)\n",
    "        df[col] = df[col].str.replace(r\"[^\\x20-\\x7E]\", \"\", regex=True)\n",
    "\n",
    "    # Handle missing values\n",
    "    for col in df.columns:\n",
    "        if df[col].isnull().any():\n",
    "            if fill_missing == \"mode\":\n",
    "                df[col].fillna(df[col].mode(dropna=True)[0] if not df[col].mode().empty else constant_fill, inplace=True)\n",
    "            elif fill_missing == \"mean\" and pd.api.types.is_numeric_dtype(df[col]):\n",
    "                df[col].fillna(df[col].mean(), inplace=True)\n",
    "            elif fill_missing == \"median\" and pd.api.types.is_numeric_dtype(df[col]):\n",
    "                df[col].fillna(df[col].median(), inplace=True)\n",
    "            elif fill_missing == \"constant\":\n",
    "                df[col].fillna(constant_fill, inplace=True)\n",
    "            elif fill_missing == \"drop\":\n",
    "                df = df.dropna(subset=[col])\n",
    "\n",
    "    # Optional fuzzy cleaning\n",
    "    if fuzzy_clean and fuzzy_column and valid_values:\n",
    "        df[f\"{fuzzy_column}_cleaned\"] = df[fuzzy_column].apply(\n",
    "            lambda x: process.extractOne(x, valid_values)[0] if isinstance(x, str) else x\n",
    "        )\n",
    "\n",
    "    # Standardize data types\n",
    "    for col in df.columns:\n",
    "        if df[col].dtype == \"object\":\n",
    "            df[col] = pd.to_numeric(df[col], errors=\"ignore\")\n",
    "        if df[col].dtype == \"object\":\n",
    "            df[col] = pd.to_datetime(df[col], errors=\"ignore\")\n",
    "\n",
    "    df.reset_index(drop=True, inplace=True)\n",
    "    return df"
   ]
  },
  {
   "cell_type": "code",
   "execution_count": 9,
   "id": "b5f49580-c45b-4cfb-9662-1ce702216f35",
   "metadata": {},
   "outputs": [
    {
     "name": "stderr",
     "output_type": "stream",
     "text": [
      "/var/folders/fd/hktpb8sd5hl6_jmpprfrhy380000gn/T/ipykernel_54508/3584701609.py:39: FutureWarning: DataFrame.applymap has been deprecated. Use DataFrame.map instead.\n",
      "  df = df.applymap(lambda x: x.strip() if isinstance(x, str) else x)\n"
     ]
    },
    {
     "ename": "KeyError",
     "evalue": "'fruit'",
     "output_type": "error",
     "traceback": [
      "\u001b[31m---------------------------------------------------------------------------\u001b[39m",
      "\u001b[31mKeyError\u001b[39m                                  Traceback (most recent call last)",
      "\u001b[36mFile \u001b[39m\u001b[32m~/Projects/kyverna/venv/lib/python3.13/site-packages/pandas/core/indexes/base.py:3812\u001b[39m, in \u001b[36mIndex.get_loc\u001b[39m\u001b[34m(self, key)\u001b[39m\n\u001b[32m   3811\u001b[39m \u001b[38;5;28;01mtry\u001b[39;00m:\n\u001b[32m-> \u001b[39m\u001b[32m3812\u001b[39m     \u001b[38;5;28;01mreturn\u001b[39;00m \u001b[38;5;28;43mself\u001b[39;49m\u001b[43m.\u001b[49m\u001b[43m_engine\u001b[49m\u001b[43m.\u001b[49m\u001b[43mget_loc\u001b[49m\u001b[43m(\u001b[49m\u001b[43mcasted_key\u001b[49m\u001b[43m)\u001b[49m\n\u001b[32m   3813\u001b[39m \u001b[38;5;28;01mexcept\u001b[39;00m \u001b[38;5;167;01mKeyError\u001b[39;00m \u001b[38;5;28;01mas\u001b[39;00m err:\n",
      "\u001b[36mFile \u001b[39m\u001b[32mpandas/_libs/index.pyx:167\u001b[39m, in \u001b[36mpandas._libs.index.IndexEngine.get_loc\u001b[39m\u001b[34m()\u001b[39m\n",
      "\u001b[36mFile \u001b[39m\u001b[32mpandas/_libs/index.pyx:196\u001b[39m, in \u001b[36mpandas._libs.index.IndexEngine.get_loc\u001b[39m\u001b[34m()\u001b[39m\n",
      "\u001b[36mFile \u001b[39m\u001b[32mpandas/_libs/hashtable_class_helper.pxi:7088\u001b[39m, in \u001b[36mpandas._libs.hashtable.PyObjectHashTable.get_item\u001b[39m\u001b[34m()\u001b[39m\n",
      "\u001b[36mFile \u001b[39m\u001b[32mpandas/_libs/hashtable_class_helper.pxi:7096\u001b[39m, in \u001b[36mpandas._libs.hashtable.PyObjectHashTable.get_item\u001b[39m\u001b[34m()\u001b[39m\n",
      "\u001b[31mKeyError\u001b[39m: 'fruit'",
      "\nThe above exception was the direct cause of the following exception:\n",
      "\u001b[31mKeyError\u001b[39m                                  Traceback (most recent call last)",
      "\u001b[36mCell\u001b[39m\u001b[36m \u001b[39m\u001b[32mIn[9]\u001b[39m\u001b[32m, line 1\u001b[39m\n\u001b[32m----> \u001b[39m\u001b[32m1\u001b[39m cleaned = \u001b[43mclean_dataframe\u001b[49m\u001b[43m(\u001b[49m\u001b[43mkyverna_df\u001b[49m\u001b[43m,\u001b[49m\u001b[43m \u001b[49m\u001b[43mfill_missing\u001b[49m\u001b[43m=\u001b[49m\u001b[33;43m\"\u001b[39;49m\u001b[33;43mmedian\u001b[39;49m\u001b[33;43m\"\u001b[39;49m\u001b[43m,\u001b[49m\u001b[43m \u001b[49m\u001b[43mfuzzy_clean\u001b[49m\u001b[43m=\u001b[49m\u001b[38;5;28;43;01mTrue\u001b[39;49;00m\u001b[43m,\u001b[49m\u001b[43m \u001b[49m\u001b[43mfuzzy_column\u001b[49m\u001b[43m=\u001b[49m\u001b[33;43m\"\u001b[39;49m\u001b[33;43mfruit\u001b[39;49m\u001b[33;43m\"\u001b[39;49m\u001b[43m,\u001b[49m\n\u001b[32m      2\u001b[39m \u001b[43m                          \u001b[49m\u001b[43mvalid_values\u001b[49m\u001b[43m=\u001b[49m\u001b[43m[\u001b[49m\u001b[33;43m\"\u001b[39;49m\u001b[33;43mapple\u001b[39;49m\u001b[33;43m\"\u001b[39;49m\u001b[43m,\u001b[49m\u001b[43m \u001b[49m\u001b[33;43m\"\u001b[39;49m\u001b[33;43mbanana\u001b[39;49m\u001b[33;43m\"\u001b[39;49m\u001b[43m,\u001b[49m\u001b[43m \u001b[49m\u001b[33;43m\"\u001b[39;49m\u001b[33;43morange\u001b[39;49m\u001b[33;43m\"\u001b[39;49m\u001b[43m]\u001b[49m\u001b[43m)\u001b[49m\n",
      "\u001b[36mCell\u001b[39m\u001b[36m \u001b[39m\u001b[32mIn[8]\u001b[39m\u001b[32m, line 62\u001b[39m, in \u001b[36mclean_dataframe\u001b[39m\u001b[34m(df, fill_missing, constant_fill, fuzzy_clean, fuzzy_column, valid_values)\u001b[39m\n\u001b[32m     60\u001b[39m \u001b[38;5;66;03m# Optional fuzzy cleaning\u001b[39;00m\n\u001b[32m     61\u001b[39m \u001b[38;5;28;01mif\u001b[39;00m fuzzy_clean \u001b[38;5;129;01mand\u001b[39;00m fuzzy_column \u001b[38;5;129;01mand\u001b[39;00m valid_values:\n\u001b[32m---> \u001b[39m\u001b[32m62\u001b[39m     df[\u001b[33mf\u001b[39m\u001b[33m\"\u001b[39m\u001b[38;5;132;01m{\u001b[39;00mfuzzy_column\u001b[38;5;132;01m}\u001b[39;00m\u001b[33m_cleaned\u001b[39m\u001b[33m\"\u001b[39m] = \u001b[43mdf\u001b[49m\u001b[43m[\u001b[49m\u001b[43mfuzzy_column\u001b[49m\u001b[43m]\u001b[49m.apply(\n\u001b[32m     63\u001b[39m         \u001b[38;5;28;01mlambda\u001b[39;00m x: process.extractOne(x, valid_values)[\u001b[32m0\u001b[39m] \u001b[38;5;28;01mif\u001b[39;00m \u001b[38;5;28misinstance\u001b[39m(x, \u001b[38;5;28mstr\u001b[39m) \u001b[38;5;28;01melse\u001b[39;00m x\n\u001b[32m     64\u001b[39m     )\n\u001b[32m     66\u001b[39m \u001b[38;5;66;03m# Standardize data types\u001b[39;00m\n\u001b[32m     67\u001b[39m \u001b[38;5;28;01mfor\u001b[39;00m col \u001b[38;5;129;01min\u001b[39;00m df.columns:\n",
      "\u001b[36mFile \u001b[39m\u001b[32m~/Projects/kyverna/venv/lib/python3.13/site-packages/pandas/core/frame.py:4107\u001b[39m, in \u001b[36mDataFrame.__getitem__\u001b[39m\u001b[34m(self, key)\u001b[39m\n\u001b[32m   4105\u001b[39m \u001b[38;5;28;01mif\u001b[39;00m \u001b[38;5;28mself\u001b[39m.columns.nlevels > \u001b[32m1\u001b[39m:\n\u001b[32m   4106\u001b[39m     \u001b[38;5;28;01mreturn\u001b[39;00m \u001b[38;5;28mself\u001b[39m._getitem_multilevel(key)\n\u001b[32m-> \u001b[39m\u001b[32m4107\u001b[39m indexer = \u001b[38;5;28;43mself\u001b[39;49m\u001b[43m.\u001b[49m\u001b[43mcolumns\u001b[49m\u001b[43m.\u001b[49m\u001b[43mget_loc\u001b[49m\u001b[43m(\u001b[49m\u001b[43mkey\u001b[49m\u001b[43m)\u001b[49m\n\u001b[32m   4108\u001b[39m \u001b[38;5;28;01mif\u001b[39;00m is_integer(indexer):\n\u001b[32m   4109\u001b[39m     indexer = [indexer]\n",
      "\u001b[36mFile \u001b[39m\u001b[32m~/Projects/kyverna/venv/lib/python3.13/site-packages/pandas/core/indexes/base.py:3819\u001b[39m, in \u001b[36mIndex.get_loc\u001b[39m\u001b[34m(self, key)\u001b[39m\n\u001b[32m   3814\u001b[39m     \u001b[38;5;28;01mif\u001b[39;00m \u001b[38;5;28misinstance\u001b[39m(casted_key, \u001b[38;5;28mslice\u001b[39m) \u001b[38;5;129;01mor\u001b[39;00m (\n\u001b[32m   3815\u001b[39m         \u001b[38;5;28misinstance\u001b[39m(casted_key, abc.Iterable)\n\u001b[32m   3816\u001b[39m         \u001b[38;5;129;01mand\u001b[39;00m \u001b[38;5;28many\u001b[39m(\u001b[38;5;28misinstance\u001b[39m(x, \u001b[38;5;28mslice\u001b[39m) \u001b[38;5;28;01mfor\u001b[39;00m x \u001b[38;5;129;01min\u001b[39;00m casted_key)\n\u001b[32m   3817\u001b[39m     ):\n\u001b[32m   3818\u001b[39m         \u001b[38;5;28;01mraise\u001b[39;00m InvalidIndexError(key)\n\u001b[32m-> \u001b[39m\u001b[32m3819\u001b[39m     \u001b[38;5;28;01mraise\u001b[39;00m \u001b[38;5;167;01mKeyError\u001b[39;00m(key) \u001b[38;5;28;01mfrom\u001b[39;00m\u001b[38;5;250m \u001b[39m\u001b[34;01merr\u001b[39;00m\n\u001b[32m   3820\u001b[39m \u001b[38;5;28;01mexcept\u001b[39;00m \u001b[38;5;167;01mTypeError\u001b[39;00m:\n\u001b[32m   3821\u001b[39m     \u001b[38;5;66;03m# If we have a listlike key, _check_indexing_error will raise\u001b[39;00m\n\u001b[32m   3822\u001b[39m     \u001b[38;5;66;03m#  InvalidIndexError. Otherwise we fall through and re-raise\u001b[39;00m\n\u001b[32m   3823\u001b[39m     \u001b[38;5;66;03m#  the TypeError.\u001b[39;00m\n\u001b[32m   3824\u001b[39m     \u001b[38;5;28mself\u001b[39m._check_indexing_error(key)\n",
      "\u001b[31mKeyError\u001b[39m: 'fruit'"
     ]
    }
   ],
   "source": [
    "cleaned = clean_dataframe(kyverna_df, fill_missing=\"median\", fuzzy_clean=True, fuzzy_column=\"fruit\",\n",
    "                          valid_values=[\"apple\", \"banana\", \"orange\"])"
   ]
  },
  {
   "cell_type": "code",
   "execution_count": null,
   "id": "d7c1d05f-6aca-4cf9-bfc8-db3f89e41a14",
   "metadata": {},
   "outputs": [],
   "source": [
    "def verify(df: pd.DataFrame):\n",
    "    if len(df) != original_len:\n",
    "        print(\"length does not match original data! something must've went ary in EDA...\")"
   ]
  },
  {
   "cell_type": "code",
   "execution_count": null,
   "id": "28c96b5f-6bc6-4d63-9430-5793cd654b5b",
   "metadata": {},
   "outputs": [],
   "source": []
  }
 ],
 "metadata": {
  "kernelspec": {
   "display_name": "Python 3 (ipykernel)",
   "language": "python",
   "name": "python3"
  },
  "language_info": {
   "codemirror_mode": {
    "name": "ipython",
    "version": 3
   },
   "file_extension": ".py",
   "mimetype": "text/x-python",
   "name": "python",
   "nbconvert_exporter": "python",
   "pygments_lexer": "ipython3",
   "version": "3.13.0"
  }
 },
 "nbformat": 4,
 "nbformat_minor": 5
}
