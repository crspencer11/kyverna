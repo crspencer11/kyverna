{
 "cells": [
  {
   "cell_type": "code",
   "execution_count": 22,
   "id": "0419b828-0b24-4df0-9361-35178826d984",
   "metadata": {},
   "outputs": [],
   "source": [
    "import pandas as pd\n",
    "from openpyxl import load_workbook\n",
    "from openpyxl.styles import PatternFill"
   ]
  },
  {
   "cell_type": "code",
   "execution_count": 33,
   "id": "3f2f67bc-0604-4a37-8a81-c4aced202041",
   "metadata": {},
   "outputs": [],
   "source": [
    "input_file = \"/Users/lilblick/Downloads/kyverna_study_data.xlsx\"\n",
    "full_output = \"/Users/lilblick/Downloads/kyverna_study_full.xlsx\"\n",
    "summary_output = \"/Users/lilblick/Downloads/kyverna_study_summary.xlsx\"\n",
    "\n",
    "times_of_interest = [\"DAY28\", \"DAY42\", \"DAY56\",\n",
    "               \"MON3\", \"MON4\", \"MON5\", \"MON6\",\n",
    "               \"MON9\", \"MON12\", \"MON18\"]\n",
    "\n",
    "grade_thresholds = {\n",
    "    \"WBC (x10^9/L)\": {\"Grade3\": 2.0, \"Grade4\": 1.0},\n",
    "    \"Abs. Neutrophils (x10^9/L)\": {\"Grade3\": 1.0, \"Grade4\": 0.5},\n",
    "    \"Abs. Lymphocytes (x10^9/L)\": {\"Grade3\": 0.5, \"Grade4\": 0.20}\n",
    "}\n",
    "\n",
    "# Color coding\n",
    "grade3_fill = PatternFill(start_color=\"0000FF\", end_color=\"0000FF\", fill_type=\"solid\") # blue for Grade3\n",
    "grade4_fill = PatternFill(start_color=\"FF0000\", end_color=\"FF0000\", fill_type=\"solid\") # Red for Grade4"
   ]
  },
  {
   "cell_type": "code",
   "execution_count": 34,
   "id": "75142c2f-f284-4f8e-93b1-36178d3561df",
   "metadata": {},
   "outputs": [
    {
     "name": "stdout",
     "output_type": "stream",
     "text": [
      "Loaded data shape: (654, 10)\n",
      "  UniqueSubjectIdentifier  Site.ID      Cohort                   Parameter  \\\n",
      "0              840002-001   840002  ABC101-001  Abs. Lymphocytes (x10^9/L)   \n",
      "1              840002-001   840002  ABC101-001  Abs. Neutrophils (x10^9/L)   \n",
      "2              840002-001   840002  ABC101-001               WBC (x10^9/L)   \n",
      "3              840002-001   840002  ABC101-001  Abs. Lymphocytes (x10^9/L)   \n",
      "4              840002-001   840002  ABC101-001  Abs. Neutrophils (x10^9/L)   \n",
      "\n",
      "  Analysis.Visit  Analysis.Value  Analysis.RelativeDay       Date Dosing.Date  \\\n",
      "0      Screening            1.19                   -50 2023-08-07  2023-09-26   \n",
      "1      Screening            5.62                   -50 2023-08-07  2023-09-26   \n",
      "2      Screening            7.21                   -50 2023-08-07  2023-09-26   \n",
      "3            Aph            0.67                   -36 2023-08-21  2023-09-26   \n",
      "4            Aph            4.92                   -36 2023-08-21  2023-09-26   \n",
      "\n",
      "              CTCAE.Grade  \n",
      "0  Gr2 or lower or normal  \n",
      "1  Gr2 or lower or normal  \n",
      "2  Gr2 or lower or normal  \n",
      "3  Gr2 or lower or normal  \n",
      "4  Gr2 or lower or normal  \n"
     ]
    }
   ],
   "source": [
    "# Load data first\n",
    "df = pd.read_excel(input_file, sheet_name=\"in\")\n",
    "print(\"Loaded data shape:\", df.shape)\n",
    "print(df.head())"
   ]
  },
  {
   "cell_type": "code",
   "execution_count": 35,
   "id": "87ff9060-574b-4dc3-9015-76ae6cee8d30",
   "metadata": {},
   "outputs": [
    {
     "name": "stdout",
     "output_type": "stream",
     "text": [
      "\n",
      "Unique Analysis.Visit values BEFORE filtering:\n",
      "['Screening' 'Aph' 'LD' 'UNS' 'DAY0' 'DAY1' 'DAY3' 'DAY7' 'DAY10' 'DAY14'\n",
      " 'DAY17' 'DAY21' 'DAY28' 'DAY42' 'DAY56' 'MON3' 'MON4' 'MON5' 'MON6'\n",
      " 'MON9' 'MON12' 'MON18' 'DAY5']\n"
     ]
    }
   ],
   "source": [
    "# Inspect visit names\n",
    "print(\"\\nUnique Analysis.Visit values BEFORE filtering:\")\n",
    "print(df[\"Analysis.Visit\"].unique())"
   ]
  },
  {
   "cell_type": "code",
   "execution_count": 36,
   "id": "ba74e3bb-0f8f-40c2-b4b8-078c97c32809",
   "metadata": {},
   "outputs": [
    {
     "name": "stdout",
     "output_type": "stream",
     "text": [
      "\n",
      "After filtering by timepoints: (240, 10)\n",
      "Analysis.Visit\n",
      "DAY28    30\n",
      "DAY42    30\n",
      "MON3     30\n",
      "MON4     30\n",
      "MON5     30\n",
      "DAY56    24\n",
      "MON6     24\n",
      "MON9     18\n",
      "MON12    15\n",
      "MON18     9\n",
      "Name: count, dtype: int64\n"
     ]
    }
   ],
   "source": [
    "# Filter only relevant timepoints\n",
    "df = df[df[\"Analysis.Visit\"].isin(times_of_interest)]\n",
    "print(\"\\nAfter filtering by timepoints:\", df.shape)\n",
    "print(df[\"Analysis.Visit\"].value_counts())"
   ]
  },
  {
   "cell_type": "code",
   "execution_count": 37,
   "id": "c36c7056-6607-4e32-bad8-b0126b60f327",
   "metadata": {},
   "outputs": [],
   "source": [
    "def grade_label(param, value):\n",
    "    \"\"\"\n",
    "    This function adds grade labels to cells that cross the established thresholds\n",
    "\n",
    "    :param: the parameter of interest. i.e Abs. Lymphocytes (x10^9/L)\n",
    "    :value: the value thresholds for said parameter. i.e \n",
    "            \"Abs. Lymphocytes (x10^9/L)\": {\"Grade3\": 2.0, \"Grade4\": 1.0},\n",
    "    \"\"\"\n",
    "    if param not in grade_thresholds:\n",
    "        return \"\"\n",
    "    t = grade_thresholds[param]\n",
    "    if value < t[\"Grade4\"]:\n",
    "        return \"Grade4\"\n",
    "    elif value < t[\"Grade3\"]:\n",
    "        return \"Grade3\"\n",
    "    else:\n",
    "        return \"\"\n",
    "\n",
    "df[\"Grade\"] = df.apply(lambda x: grade_label(x[\"Parameter\"], x[\"Analysis.Value\"]), axis=1)"
   ]
  },
  {
   "cell_type": "code",
   "execution_count": 38,
   "id": "df545317-9b7c-41a7-a208-068d0803f0a3",
   "metadata": {},
   "outputs": [
    {
     "name": "stdout",
     "output_type": "stream",
     "text": [
      "\n",
      "Sample with grades + annotations:\n",
      "   UniqueSubjectIdentifier  Site.ID      Cohort                   Parameter  \\\n",
      "36              840002-001   840002  ABC101-001  Abs. Lymphocytes (x10^9/L)   \n",
      "37              840002-001   840002  ABC101-001  Abs. Neutrophils (x10^9/L)   \n",
      "38              840002-001   840002  ABC101-001               WBC (x10^9/L)   \n",
      "39              840002-001   840002  ABC101-001  Abs. Lymphocytes (x10^9/L)   \n",
      "40              840002-001   840002  ABC101-001  Abs. Neutrophils (x10^9/L)   \n",
      "41              840002-001   840002  ABC101-001               WBC (x10^9/L)   \n",
      "42              840002-001   840002  ABC101-001  Abs. Lymphocytes (x10^9/L)   \n",
      "43              840002-001   840002  ABC101-001  Abs. Neutrophils (x10^9/L)   \n",
      "44              840002-001   840002  ABC101-001               WBC (x10^9/L)   \n",
      "45              840002-001   840002  ABC101-001  Abs. Lymphocytes (x10^9/L)   \n",
      "\n",
      "   Analysis.Visit  Analysis.Value  Analysis.RelativeDay       Date  \\\n",
      "36          DAY28            0.29                    28 2023-10-24   \n",
      "37          DAY28            6.18                    28 2023-10-24   \n",
      "38          DAY28            6.77                    28 2023-10-24   \n",
      "39          DAY42            0.56                    42 2023-11-07   \n",
      "40          DAY42            3.29                    42 2023-11-07   \n",
      "41          DAY42            4.48                    42 2023-11-07   \n",
      "42          DAY56            1.04                    66 2023-12-01   \n",
      "43          DAY56            1.24                    66 2023-12-01   \n",
      "44          DAY56            2.66                    66 2023-12-01   \n",
      "45           MON3            0.78                    93 2023-12-28   \n",
      "\n",
      "   Dosing.Date             CTCAE.Grade   Grade     Annotated  \n",
      "36  2023-09-26        Gr3+ Lymphopenia  Grade3  0.29(Grade3)  \n",
      "37  2023-09-26  Gr2 or lower or normal                  6.18  \n",
      "38  2023-09-26  Gr2 or lower or normal                  6.77  \n",
      "39  2023-09-26  Gr2 or lower or normal                  0.56  \n",
      "40  2023-09-26  Gr2 or lower or normal                  3.29  \n",
      "41  2023-09-26  Gr2 or lower or normal                  4.48  \n",
      "42  2023-09-26  Gr2 or lower or normal                  1.04  \n",
      "43  2023-09-26  Gr2 or lower or normal                  1.24  \n",
      "44  2023-09-26  Gr2 or lower or normal                  2.66  \n",
      "45  2023-09-26  Gr2 or lower or normal                  0.78  \n"
     ]
    }
   ],
   "source": [
    "# Annotated string for summary\n",
    "df[\"Annotated\"] = df.apply(\n",
    "    lambda x: f\"{x['Analysis.Value']}({x['Grade']})\" if x[\"Grade\"] else str(x[\"Analysis.Value\"]),\n",
    "    axis=1\n",
    ")\n",
    "print(\"\\nSample with grades + annotations:\")\n",
    "print(df.head(10))"
   ]
  },
  {
   "cell_type": "code",
   "execution_count": 39,
   "id": "e6a7c72a-019e-48ab-952f-23471b43c29a",
   "metadata": {},
   "outputs": [
    {
     "name": "stdout",
     "output_type": "stream",
     "text": [
      "\n",
      "✅ Subject-level summary saved (1 sheet per subject): /Users/lilblick/Downloads/kyverna_study_summary.xlsx\n"
     ]
    }
   ],
   "source": [
    "df.to_excel(full_output, index=False)\n",
    "\n",
    "# Save subject-level pivot summaries\n",
    "with pd.ExcelWriter(summary_output, engine=\"openpyxl\") as writer:\n",
    "    for subj, g in df.groupby(\"UniqueSubjectIdentifier\"):\n",
    "        pivot = g.pivot_table(\n",
    "            index=[\"Parameter\"],\n",
    "            columns=\"Analysis.Visit\",\n",
    "            values=\"Annotated\",\n",
    "            aggfunc=\"first\"\n",
    "        ).reset_index()\n",
    "        \n",
    "        # Each subject gets its own sheet\n",
    "        pivot.to_excel(writer, sheet_name=str(subj), index=False)\n",
    "\n",
    "print(\"\\n✅ Subject-level summary saved (1 sheet per subject):\", summary_output)"
   ]
  },
  {
   "cell_type": "code",
   "execution_count": 40,
   "id": "a21453b8-010d-459e-8070-57cb4ab98dff",
   "metadata": {},
   "outputs": [
    {
     "name": "stdout",
     "output_type": "stream",
     "text": [
      "\n",
      "Applying formatting to full dataset...\n",
      "✅ Coloring applied to full dataset.\n"
     ]
    }
   ],
   "source": [
    "wb = load_workbook(full_output)\n",
    "ws = wb.active\n",
    "\n",
    "# Identify column indexes dynamically\n",
    "headers = {cell.value: idx for idx, cell in enumerate(next(ws.iter_rows(min_row=1, max_row=1)), start=1)}\n",
    "value_col = headers.get(\"Analysis.Value\")\n",
    "grade_col = headers.get(\"Grade\")\n",
    "\n",
    "print(\"\\nApplying formatting to full dataset...\")\n",
    "for row in ws.iter_rows(min_row=2, max_row=ws.max_row):\n",
    "    grade = row[grade_col - 1].value\n",
    "    if grade == \"Grade3\":\n",
    "        row[value_col - 1].fill = grade3_fill\n",
    "    elif grade == \"Grade4\":\n",
    "        row[value_col - 1].fill = grade4_fill\n",
    "\n",
    "wb.save(full_output)\n",
    "print(\"✅ Coloring applied to full dataset.\")"
   ]
  },
  {
   "cell_type": "code",
   "execution_count": 41,
   "id": "28c96b5f-6bc6-4d63-9430-5793cd654b5b",
   "metadata": {},
   "outputs": [
    {
     "name": "stdout",
     "output_type": "stream",
     "text": [
      "✅ Coloring applied to summary workbook.\n",
      "\n",
      "🎉 Finished. Files saved:\n",
      "   Full data: /Users/lilblick/Downloads/kyverna_study_full.xlsx\n",
      "   Summary  : /Users/lilblick/Downloads/kyverna_study_summary.xlsx\n"
     ]
    }
   ],
   "source": [
    "wb = load_workbook(summary_output)\n",
    "\n",
    "# loop over each subject sheet\n",
    "for ws in wb.worksheets:  \n",
    "    for row in ws.iter_rows(min_row=2, min_col=2):\n",
    "        for cell in row:\n",
    "            if cell.value and isinstance(cell.value, str):\n",
    "                if \"(Grade3)\" in cell.value:\n",
    "                    cell.fill = grade3_fill\n",
    "                elif \"(Grade4)\" in cell.value:\n",
    "                    cell.fill = grade4_fill\n",
    "\n",
    "wb.save(summary_output)\n",
    "print(\"✅ Coloring applied to summary workbook.\")\n",
    "\n",
    "print(\"\\n🎉 Finished. Files saved:\")\n",
    "print(\"   Full data:\", full_output)\n",
    "print(\"   Summary  :\", summary_output)"
   ]
  }
 ],
 "metadata": {
  "kernelspec": {
   "display_name": "Python 3 (ipykernel)",
   "language": "python",
   "name": "python3"
  },
  "language_info": {
   "codemirror_mode": {
    "name": "ipython",
    "version": 3
   },
   "file_extension": ".py",
   "mimetype": "text/x-python",
   "name": "python",
   "nbconvert_exporter": "python",
   "pygments_lexer": "ipython3",
   "version": "3.13.0"
  }
 },
 "nbformat": 4,
 "nbformat_minor": 5
}
